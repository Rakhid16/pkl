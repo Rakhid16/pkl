{
 "cells": [
  {
   "cell_type": "code",
   "execution_count": 37,
   "metadata": {},
   "outputs": [],
   "source": [
    "import sqlite3\n",
    "import pandas as pd\n",
    "import matplotlib.pyplot as plt"
   ]
  },
  {
   "cell_type": "code",
   "execution_count": 29,
   "metadata": {},
   "outputs": [],
   "source": [
    "con = sqlite3.connect(\"D:/4. PKL/Data PKL/Repo PKL Wahid Slur/database/pangkalan_data.db\")\n",
    "data = pd.read_sql(\"select * from pengunjung\", con, index_col='Tanggal')"
   ]
  },
  {
   "cell_type": "code",
   "execution_count": 30,
   "metadata": {},
   "outputs": [],
   "source": [
    "data = data.drop(columns='NPM/NRP')"
   ]
  },
  {
   "cell_type": "code",
   "execution_count": 43,
   "metadata": {},
   "outputs": [
    {
     "data": {
      "text/plain": [
       "<matplotlib.axes._subplots.AxesSubplot at 0xe3f5050>"
      ]
     },
     "execution_count": 43,
     "metadata": {},
     "output_type": "execute_result"
    },
    {
     "data": {
      "image/png": "[encoded data removed]",
      "text/plain": [
       "<Figure size 432x288 with 1 Axes>"
      ]
     },
     "metadata": {
      "needs_background": "light"
     },
     "output_type": "display_data"
    },
    {
     "data": {
      "image/png": "[encoded data removed]",
      "text/plain": [
       "<Figure size 432x288 with 1 Axes>"
      ]
     },
     "metadata": {
      "needs_background": "light"
     },
     "output_type": "display_data"
    }
   ],
   "source": [
    "plt.title(\"Data Rekap Selama ini\")\n",
    "plt.ylabel(\"Jumlah\")\n",
    "plt.xlabel(\"Bulan\")\n",
    "\n",
    "data.plot()"
   ]
  },
  {
   "cell_type": "code",
   "execution_count": 32,
   "metadata": {},
   "outputs": [
    {
     "data": {
      "text/html": [
       "<div>\n",
       "<style scoped>\n",
       "    .dataframe tbody tr th:only-of-type {\n",
       "        vertical-align: middle;\n",
       "    }\n",
       "\n",
       "    .dataframe tbody tr th {\n",
       "        vertical-align: top;\n",
       "    }\n",
       "\n",
       "    .dataframe thead th {\n",
       "        text-align: right;\n",
       "    }\n",
       "</style>\n",
       "<table border=\"1\" class=\"dataframe\">\n",
       "  <thead>\n",
       "    <tr style=\"text-align: right;\">\n",
       "      <th></th>\n",
       "      <th>ID</th>\n",
       "      <th>Nama</th>\n",
       "      <th>Tanggal_Lahir</th>\n",
       "      <th>Golongan</th>\n",
       "      <th>Diagnosa</th>\n",
       "      <th>Perawatan_Gigi</th>\n",
       "      <th>Pengobatan</th>\n",
       "    </tr>\n",
       "    <tr>\n",
       "      <th>Tanggal</th>\n",
       "      <th></th>\n",
       "      <th></th>\n",
       "      <th></th>\n",
       "      <th></th>\n",
       "      <th></th>\n",
       "      <th></th>\n",
       "      <th></th>\n",
       "    </tr>\n",
       "  </thead>\n",
       "  <tbody>\n",
       "    <tr>\n",
       "      <td>01-Nov-19</td>\n",
       "      <td>27</td>\n",
       "      <td>Kholilul Rachman Nur Manab</td>\n",
       "      <td>05-Apr-98</td>\n",
       "      <td>Mahasiswa</td>\n",
       "      <td>Alhamdulillah Sehat</td>\n",
       "      <td>Alhamdulillah Sehat</td>\n",
       "      <td>Alhamdulillah Sehat</td>\n",
       "    </tr>\n",
       "    <tr>\n",
       "      <td>01-Nov-19</td>\n",
       "      <td>28</td>\n",
       "      <td>Radical Rakhman Wahid</td>\n",
       "      <td>16-May-99</td>\n",
       "      <td>Mahasiswa</td>\n",
       "      <td>Alhamdulillah Sehat</td>\n",
       "      <td>Alhamdulillah Sehat</td>\n",
       "      <td>Alhamdulillah Sehat</td>\n",
       "    </tr>\n",
       "  </tbody>\n",
       "</table>\n",
       "</div>"
      ],
      "text/plain": [
       "           ID                        Nama Tanggal_Lahir   Golongan  \\\n",
       "Tanggal                                                              \n",
       "01-Nov-19  27  Kholilul Rachman Nur Manab     05-Apr-98  Mahasiswa   \n",
       "01-Nov-19  28       Radical Rakhman Wahid     16-May-99  Mahasiswa   \n",
       "\n",
       "                      Diagnosa       Perawatan_Gigi           Pengobatan  \n",
       "Tanggal                                                                   \n",
       "01-Nov-19  Alhamdulillah Sehat  Alhamdulillah Sehat  Alhamdulillah Sehat  \n",
       "01-Nov-19  Alhamdulillah Sehat  Alhamdulillah Sehat  Alhamdulillah Sehat  "
      ]
     },
     "execution_count": 32,
     "metadata": {},
     "output_type": "execute_result"
    }
   ],
   "source": [
    "data"
   ]
  },
  {
   "cell_type": "code",
   "execution_count": 33,
   "metadata": {},
   "outputs": [],
   "source": [
    "data.iloc[0,0] = 1\n",
    "data.iloc[1,0] = 2"
   ]
  },
  {
   "cell_type": "code",
   "execution_count": 34,
   "metadata": {},
   "outputs": [
    {
     "data": {
      "text/html": [
       "<div>\n",
       "<style scoped>\n",
       "    .dataframe tbody tr th:only-of-type {\n",
       "        vertical-align: middle;\n",
       "    }\n",
       "\n",
       "    .dataframe tbody tr th {\n",
       "        vertical-align: top;\n",
       "    }\n",
       "\n",
       "    .dataframe thead th {\n",
       "        text-align: right;\n",
       "    }\n",
       "</style>\n",
       "<table border=\"1\" class=\"dataframe\">\n",
       "  <thead>\n",
       "    <tr style=\"text-align: right;\">\n",
       "      <th></th>\n",
       "      <th>ID</th>\n",
       "      <th>Nama</th>\n",
       "      <th>Tanggal_Lahir</th>\n",
       "      <th>Golongan</th>\n",
       "      <th>Diagnosa</th>\n",
       "      <th>Perawatan_Gigi</th>\n",
       "      <th>Pengobatan</th>\n",
       "    </tr>\n",
       "    <tr>\n",
       "      <th>Tanggal</th>\n",
       "      <th></th>\n",
       "      <th></th>\n",
       "      <th></th>\n",
       "      <th></th>\n",
       "      <th></th>\n",
       "      <th></th>\n",
       "      <th></th>\n",
       "    </tr>\n",
       "  </thead>\n",
       "  <tbody>\n",
       "    <tr>\n",
       "      <td>01-Nov-19</td>\n",
       "      <td>1</td>\n",
       "      <td>Kholilul Rachman Nur Manab</td>\n",
       "      <td>05-Apr-98</td>\n",
       "      <td>Mahasiswa</td>\n",
       "      <td>Alhamdulillah Sehat</td>\n",
       "      <td>Alhamdulillah Sehat</td>\n",
       "      <td>Alhamdulillah Sehat</td>\n",
       "    </tr>\n",
       "    <tr>\n",
       "      <td>01-Nov-19</td>\n",
       "      <td>2</td>\n",
       "      <td>Radical Rakhman Wahid</td>\n",
       "      <td>16-May-99</td>\n",
       "      <td>Mahasiswa</td>\n",
       "      <td>Alhamdulillah Sehat</td>\n",
       "      <td>Alhamdulillah Sehat</td>\n",
       "      <td>Alhamdulillah Sehat</td>\n",
       "    </tr>\n",
       "  </tbody>\n",
       "</table>\n",
       "</div>"
      ],
      "text/plain": [
       "           ID                        Nama Tanggal_Lahir   Golongan  \\\n",
       "Tanggal                                                              \n",
       "01-Nov-19   1  Kholilul Rachman Nur Manab     05-Apr-98  Mahasiswa   \n",
       "01-Nov-19   2       Radical Rakhman Wahid     16-May-99  Mahasiswa   \n",
       "\n",
       "                      Diagnosa       Perawatan_Gigi           Pengobatan  \n",
       "Tanggal                                                                   \n",
       "01-Nov-19  Alhamdulillah Sehat  Alhamdulillah Sehat  Alhamdulillah Sehat  \n",
       "01-Nov-19  Alhamdulillah Sehat  Alhamdulillah Sehat  Alhamdulillah Sehat  "
      ]
     },
     "execution_count": 34,
     "metadata": {},
     "output_type": "execute_result"
    }
   ],
   "source": [
    "data"
   ]
  },
  {
   "cell_type": "code",
   "execution_count": null,
   "metadata": {},
   "outputs": [],
   "source": []
  }
 ],
 "metadata": {
  "kernelspec": {
   "display_name": "Python 3",
   "language": "python",
   "name": "python3"
  },
  "language_info": {
   "codemirror_mode": {
    "name": "ipython",
    "version": 3
   },
   "file_extension": ".py",
   "mimetype": "text/x-python",
   "name": "python",
   "nbconvert_exporter": "python",
   "pygments_lexer": "ipython3",
   "version": "3.7.4"
  }
 },
 "nbformat": 4,
 "nbformat_minor": 2
}

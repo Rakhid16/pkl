{
 "cells": [
  {
   "cell_type": "code",
   "execution_count": 1,
   "metadata": {},
   "outputs": [],
   "source": [
    "# THIRD PARTY LIBRARIES\n",
    "import sqlite3\n",
    "import pandas as pd\n",
    "import matplotlib.pyplot as plt\n",
    "\n",
    "# BUILT-IN LIBRARY\n",
    "from datetime import date\n",
    "today = date.today()"
   ]
  },
  {
   "cell_type": "markdown",
   "metadata": {},
   "source": [
    "<b>sqlite3</b> untuk memberi akses ke <i>database</i><br>\n",
    "<b>pandas</b> untuk eskpor ke .xlsx<br>\n",
    "<b>datetime</b> untuk mengetahui tanggal sekarang"
   ]
  },
  {
   "cell_type": "markdown",
   "metadata": {},
   "source": [
    "## 1. Koneksikan ke <i>database</i>"
   ]
  },
  {
   "cell_type": "code",
   "execution_count": 2,
   "metadata": {},
   "outputs": [],
   "source": [
    "con = sqlite3.connect(\"../database/pangkalan_data.db\")\n",
    "\n",
    "data = pd.read_sql(\"select * from riwayat_pengunjung\", con, index_col='Tanggal', parse_dates=True)"
   ]
  },
  {
   "cell_type": "markdown",
   "metadata": {},
   "source": [
    "#### 1.1 Lihat data"
   ]
  },
  {
   "cell_type": "code",
   "execution_count": 3,
   "metadata": {
    "scrolled": false
   },
   "outputs": [
    {
     "data": {
      "text/html": [
       "<div>\n",
       "<style scoped>\n",
       "    .dataframe tbody tr th:only-of-type {\n",
       "        vertical-align: middle;\n",
       "    }\n",
       "\n",
       "    .dataframe tbody tr th {\n",
       "        vertical-align: top;\n",
       "    }\n",
       "\n",
       "    .dataframe thead th {\n",
       "        text-align: right;\n",
       "    }\n",
       "</style>\n",
       "<table border=\"1\" class=\"dataframe\">\n",
       "  <thead>\n",
       "    <tr style=\"text-align: right;\">\n",
       "      <th></th>\n",
       "      <th>ID</th>\n",
       "      <th>NPM/NRP</th>\n",
       "      <th>Nama</th>\n",
       "      <th>Tanggal Lahir</th>\n",
       "      <th>Golongan</th>\n",
       "      <th>Diagnosa</th>\n",
       "      <th>Perawatan</th>\n",
       "      <th>Pengobatan</th>\n",
       "    </tr>\n",
       "    <tr>\n",
       "      <th>Tanggal</th>\n",
       "      <th></th>\n",
       "      <th></th>\n",
       "      <th></th>\n",
       "      <th></th>\n",
       "      <th></th>\n",
       "      <th></th>\n",
       "      <th></th>\n",
       "      <th></th>\n",
       "    </tr>\n",
       "  </thead>\n",
       "  <tbody>\n",
       "    <tr>\n",
       "      <th>2019-02-05</th>\n",
       "      <td>39</td>\n",
       "      <td>196841</td>\n",
       "      <td>adkjjabf</td>\n",
       "      <td>31-Oct-19</td>\n",
       "      <td>akjfbaf</td>\n",
       "      <td>afhkabf</td>\n",
       "      <td>akhflaf</td>\n",
       "      <td>alkfkhaf</td>\n",
       "    </tr>\n",
       "    <tr>\n",
       "      <th>2019-02-09</th>\n",
       "      <td>40</td>\n",
       "      <td>196841</td>\n",
       "      <td>adkjjabf</td>\n",
       "      <td>31-Oct-19</td>\n",
       "      <td>akjfbaf</td>\n",
       "      <td>afhkabf</td>\n",
       "      <td>akhflaf</td>\n",
       "      <td>alkfkhaf</td>\n",
       "    </tr>\n",
       "    <tr>\n",
       "      <th>2019-02-11</th>\n",
       "      <td>42</td>\n",
       "      <td>196841</td>\n",
       "      <td>adkjjabf</td>\n",
       "      <td>31-Oct-19</td>\n",
       "      <td>akjfbaf</td>\n",
       "      <td>afhkabf</td>\n",
       "      <td>akhflaf</td>\n",
       "      <td>alkfkhaf</td>\n",
       "    </tr>\n",
       "    <tr>\n",
       "      <th>2019-01-15</th>\n",
       "      <td>43</td>\n",
       "      <td>196841</td>\n",
       "      <td>adkjjabf</td>\n",
       "      <td>31-Oct-19</td>\n",
       "      <td>akjfbaf</td>\n",
       "      <td>afhkabf</td>\n",
       "      <td>akhflaf</td>\n",
       "      <td>alkfkhaf</td>\n",
       "    </tr>\n",
       "    <tr>\n",
       "      <th>2019-01-12</th>\n",
       "      <td>44</td>\n",
       "      <td>196841</td>\n",
       "      <td>adkjjabf</td>\n",
       "      <td>31-Oct-19</td>\n",
       "      <td>akjfbaf</td>\n",
       "      <td>afhkabf</td>\n",
       "      <td>akhflaf</td>\n",
       "      <td>alkfkhaf</td>\n",
       "    </tr>\n",
       "    <tr>\n",
       "      <th>2019-01-12</th>\n",
       "      <td>45</td>\n",
       "      <td>196841</td>\n",
       "      <td>adkjjabf</td>\n",
       "      <td>31-Oct-19</td>\n",
       "      <td>akjfbaf</td>\n",
       "      <td>afhkabf</td>\n",
       "      <td>akhflaf</td>\n",
       "      <td>alkfkhaf</td>\n",
       "    </tr>\n",
       "    <tr>\n",
       "      <th>2019-01-31</th>\n",
       "      <td>46</td>\n",
       "      <td>196841</td>\n",
       "      <td>adkjjabf</td>\n",
       "      <td>31-Oct-19</td>\n",
       "      <td>akjfbaf</td>\n",
       "      <td>afhkabf</td>\n",
       "      <td>akhflaf</td>\n",
       "      <td>alkfkhaf</td>\n",
       "    </tr>\n",
       "    <tr>\n",
       "      <th>2019-03-31</th>\n",
       "      <td>47</td>\n",
       "      <td>11212314212414</td>\n",
       "      <td>abc</td>\n",
       "      <td>31-Oct-19</td>\n",
       "      <td>abc</td>\n",
       "      <td>abc</td>\n",
       "      <td>abc</td>\n",
       "      <td>abc</td>\n",
       "    </tr>\n",
       "  </tbody>\n",
       "</table>\n",
       "</div>"
      ],
      "text/plain": [
       "            ID         NPM/NRP      Nama Tanggal Lahir Golongan Diagnosa  \\\n",
       "Tanggal                                                                    \n",
       "2019-02-05  39          196841  adkjjabf     31-Oct-19  akjfbaf  afhkabf   \n",
       "2019-02-09  40          196841  adkjjabf     31-Oct-19  akjfbaf  afhkabf   \n",
       "2019-02-11  42          196841  adkjjabf     31-Oct-19  akjfbaf  afhkabf   \n",
       "2019-01-15  43          196841  adkjjabf     31-Oct-19  akjfbaf  afhkabf   \n",
       "2019-01-12  44          196841  adkjjabf     31-Oct-19  akjfbaf  afhkabf   \n",
       "2019-01-12  45          196841  adkjjabf     31-Oct-19  akjfbaf  afhkabf   \n",
       "2019-01-31  46          196841  adkjjabf     31-Oct-19  akjfbaf  afhkabf   \n",
       "2019-03-31  47  11212314212414       abc     31-Oct-19      abc      abc   \n",
       "\n",
       "           Perawatan Pengobatan  \n",
       "Tanggal                          \n",
       "2019-02-05   akhflaf   alkfkhaf  \n",
       "2019-02-09   akhflaf   alkfkhaf  \n",
       "2019-02-11   akhflaf   alkfkhaf  \n",
       "2019-01-15   akhflaf   alkfkhaf  \n",
       "2019-01-12   akhflaf   alkfkhaf  \n",
       "2019-01-12   akhflaf   alkfkhaf  \n",
       "2019-01-31   akhflaf   alkfkhaf  \n",
       "2019-03-31       abc        abc  "
      ]
     },
     "execution_count": 3,
     "metadata": {},
     "output_type": "execute_result"
    }
   ],
   "source": [
    "data"
   ]
  },
  {
   "cell_type": "code",
   "execution_count": 5,
   "metadata": {},
   "outputs": [],
   "source": [
    "data.index = pd.to_datetime(data.index)\n",
    "data.index.name = \"Kurun Waktu\""
   ]
  },
  {
   "cell_type": "code",
   "execution_count": 6,
   "metadata": {},
   "outputs": [
    {
     "data": {
      "image/png": "[encoded data removed]",
      "text/plain": [
       "<Figure size 432x288 with 1 Axes>"
      ]
     },
     "metadata": {},
     "output_type": "display_data"
    }
   ],
   "source": [
    "data.resample('M').count()['Nama'].plot(grid=True, linewidth=3.5)\n",
    "\n",
    "plt.style.use(\"seaborn-whitegrid\")\n",
    "plt.ylabel(\"Jumlah Pasien\")\n",
    "plt.title(\"Statistik Kunjungan Poliklinik GIGI UPN Veteran Jawa Timur\")\n",
    "plt.ylim(0,data.resample('M').count()['Nama'].max()*1.25)\n",
    "\n",
    "plt.show()"
   ]
  },
  {
   "cell_type": "markdown",
   "metadata": {},
   "source": [
    "## 2. Eskpor data"
   ]
  },
  {
   "cell_type": "markdown",
   "metadata": {},
   "source": [
    "#### 2.1 Variabel bantu untuk penamaan <i>file</i> .xlsx yang diekspor"
   ]
  },
  {
   "cell_type": "code",
   "execution_count": 4,
   "metadata": {},
   "outputs": [],
   "source": [
    "Bulan = [\"Januari\", \"Februari\", \"Maret\", \"April\",\n",
    "        \"Mei\",\"Juni\", \"Juli\", \"Agustus\",\n",
    "        \"September\", \"Oktober\", \"November\", \"Desember\"]"
   ]
  },
  {
   "cell_type": "code",
   "execution_count": 5,
   "metadata": {},
   "outputs": [],
   "source": [
    "# EKSPOR DATA!\n",
    "\n",
    "file = pd.ExcelWriter(\"Rekap Bulan \" + Bulan[today.month-1] + \" \" + str(today.year) +\".xlsx\")\n",
    "data.to_excel(file, 'Sheet1', index=False)   # DAPAT DITAMBAHKAN KE SHEET 2 DAN SETERUSNYA\n",
    "\n",
    "file.save()"
   ]
  },
  {
   "cell_type": "markdown",
   "metadata": {},
   "source": [
    "## 3. Lihat hasil ekspor"
   ]
  },
  {
   "cell_type": "code",
   "execution_count": 6,
   "metadata": {},
   "outputs": [
    {
     "data": {
      "text/html": [
       "<div>\n",
       "<style scoped>\n",
       "    .dataframe tbody tr th:only-of-type {\n",
       "        vertical-align: middle;\n",
       "    }\n",
       "\n",
       "    .dataframe tbody tr th {\n",
       "        vertical-align: top;\n",
       "    }\n",
       "\n",
       "    .dataframe thead th {\n",
       "        text-align: right;\n",
       "    }\n",
       "</style>\n",
       "<table border=\"1\" class=\"dataframe\">\n",
       "  <thead>\n",
       "    <tr style=\"text-align: right;\">\n",
       "      <th></th>\n",
       "      <th>ID</th>\n",
       "      <th>Tanggal</th>\n",
       "      <th>NPM/NRP</th>\n",
       "      <th>Nama</th>\n",
       "      <th>Tanggal_Lahir</th>\n",
       "      <th>Golongan</th>\n",
       "      <th>Diagnosa</th>\n",
       "      <th>Perawatan_Gigi</th>\n",
       "      <th>Pengobatan</th>\n",
       "    </tr>\n",
       "  </thead>\n",
       "  <tbody>\n",
       "    <tr>\n",
       "      <th>0</th>\n",
       "      <td>1</td>\n",
       "      <td>CURRENT_DATE()</td>\n",
       "      <td>NaN</td>\n",
       "      <td>Shireen</td>\n",
       "      <td>2000-06-10</td>\n",
       "      <td>Mahasiswa</td>\n",
       "      <td>Operasi</td>\n",
       "      <td>Operasi</td>\n",
       "      <td>Operasi</td>\n",
       "    </tr>\n",
       "    <tr>\n",
       "      <th>1</th>\n",
       "      <td>2</td>\n",
       "      <td>2019-10-23</td>\n",
       "      <td>NaN</td>\n",
       "      <td>Testing</td>\n",
       "      <td>1999-05-04</td>\n",
       "      <td>Mahasiswa</td>\n",
       "      <td>Operasi</td>\n",
       "      <td>Operasi</td>\n",
       "      <td>Operasi</td>\n",
       "    </tr>\n",
       "    <tr>\n",
       "      <th>2</th>\n",
       "      <td>3</td>\n",
       "      <td>2019-10-23</td>\n",
       "      <td>NaN</td>\n",
       "      <td>Testing2</td>\n",
       "      <td>1999-14-15</td>\n",
       "      <td>Mahasiswa</td>\n",
       "      <td>Operas</td>\n",
       "      <td>Operas</td>\n",
       "      <td>Operas</td>\n",
       "    </tr>\n",
       "  </tbody>\n",
       "</table>\n",
       "</div>"
      ],
      "text/plain": [
       "   ID         Tanggal  NPM/NRP      Nama Tanggal_Lahir   Golongan Diagnosa  \\\n",
       "0   1  CURRENT_DATE()      NaN   Shireen    2000-06-10  Mahasiswa  Operasi   \n",
       "1   2      2019-10-23      NaN   Testing    1999-05-04  Mahasiswa  Operasi   \n",
       "2   3      2019-10-23      NaN  Testing2    1999-14-15  Mahasiswa   Operas   \n",
       "\n",
       "  Perawatan_Gigi Pengobatan  \n",
       "0        Operasi    Operasi  \n",
       "1        Operasi    Operasi  \n",
       "2         Operas     Operas  "
      ]
     },
     "execution_count": 6,
     "metadata": {},
     "output_type": "execute_result"
    }
   ],
   "source": [
    "excel = pd.read_excel(\"Rekap Bulan Oktober 2019.xlsx\")\n",
    "excel"
   ]
  },
  {
   "cell_type": "markdown",
   "metadata": {},
   "source": [
    "Alhamdulillah cukup sekian saja<br>\n",
    "Kolom NPM/NRP itu tipe datanya harus'nya <i>integer</i><br>\n",
    "Makanya di sana NaN soalnya kami ndak ngisi nilai'nya dengan <i>integer</i> :v"
   ]
  },
  {
   "cell_type": "code",
   "execution_count": null,
   "metadata": {},
   "outputs": [],
   "source": []
  }
 ],
 "metadata": {
  "kernelspec": {
   "display_name": "'Python Interactive'",
   "language": "python",
   "name": "f47e0b13-9f33-4f5f-8b2b-3c03fa48dcf6"
  },
  "language_info": {
   "codemirror_mode": {
    "name": "ipython",
    "version": 3
   },
   "file_extension": ".py",
   "mimetype": "text/x-python",
   "name": "python",
   "nbconvert_exporter": "python",
   "pygments_lexer": "ipython3",
   "version": "3.6.2"
  }
 },
 "nbformat": 4,
 "nbformat_minor": 2
}
